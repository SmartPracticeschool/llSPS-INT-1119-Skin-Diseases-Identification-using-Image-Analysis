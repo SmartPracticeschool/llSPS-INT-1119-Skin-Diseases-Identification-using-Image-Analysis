{
 "cells": [
  {
   "cell_type": "code",
   "execution_count": null,
   "metadata": {},
   "outputs": [],
   "source": [
    "import os\n",
    "os.chdir(\"C:/Users/Kali Prasad/Desktop/dataset/dataset\")"
   ]
  },
  {
   "cell_type": "code",
   "execution_count": 43,
   "metadata": {},
   "outputs": [],
   "source": [
    "\n",
    "model = load_model('skindisease1.h5')\n",
    "\n",
    "from skimage.transform import resize\n",
    "\n",
    "def detect(frame):\n",
    "    try:\n",
    "        img = resize(frame,(224,224))\n",
    "        img = np.expand_dims(img,axis=0)\n",
    "        if(np.max(img)>1):\n",
    "            img = img/255.0\n",
    "        prediction = model.predict(img)\n",
    "        print(prediction)\n",
    "        prediction = model.predict_classes(img)\n",
    "        print(prediction)\n",
    "    except AttributeError:\n",
    "        print(\"shape not found\")\n"
   ]
  },
  {
   "cell_type": "code",
   "execution_count": 44,
   "metadata": {},
   "outputs": [
    {
     "name": "stdout",
     "output_type": "stream",
     "text": [
      "[[9.9297453e-05 3.0656716e-05 9.9944168e-01 4.2821458e-04 1.1795704e-07]]\n",
      "[2]\n"
     ]
    }
   ],
   "source": [
    "frame=cv2.imread(\"C:/Users/Kali Prasad/Desktop/dataset/dataset/Train/psorasis/p10.jpg\")\n",
    "data = detect(frame)"
   ]
  },
  {
   "cell_type": "code",
   "execution_count": 49,
   "metadata": {},
   "outputs": [
    {
     "name": "stdout",
     "output_type": "stream",
     "text": [
      "[[0.2370628  0.2590986  0.17670603 0.1805341  0.14659846]]\n",
      "[1]\n"
     ]
    }
   ],
   "source": [
    "frame=cv2.imread(\"C:/Users/Kali Prasad/Desktop/dataset/dataset/Train/melanoma/g4.jpg\")\n",
    "data = detect(frame)"
   ]
  },
  {
   "cell_type": "code",
   "execution_count": 50,
   "metadata": {},
   "outputs": [
    {
     "name": "stdout",
     "output_type": "stream",
     "text": [
      "[[5.1814737e-14 3.7270278e-05 7.6651757e-10 9.9996269e-01 3.7929100e-17]]\n",
      "[3]\n"
     ]
    }
   ],
   "source": [
    "frame=cv2.imread(\"C:/Users/Kali Prasad/Desktop/dataset/dataset/Train/seborrheic keratosis/ISIC_0000142.jpg\")\n",
    "data = detect(frame)"
   ]
  },
  {
   "cell_type": "code",
   "execution_count": 47,
   "metadata": {},
   "outputs": [
    {
     "name": "stdout",
     "output_type": "stream",
     "text": [
      "[[0.33556792 0.1726142  0.22061227 0.09388291 0.17732263]]\n",
      "[0]\n"
     ]
    }
   ],
   "source": [
    "frame=cv2.imread(\"C:/Users/Kali Prasad/Desktop/dataset/dataset/Train/actinic keratosis/ISIC_0026040.jpg\")\n",
    "data = detect(frame)"
   ]
  },
  {
   "cell_type": "code",
   "execution_count": 48,
   "metadata": {},
   "outputs": [
    {
     "name": "stdout",
     "output_type": "stream",
     "text": [
      "[[1.5015107e-14 4.5873346e-17 2.1092765e-16 1.8467455e-10 1.0000000e+00]]\n",
      "[4]\n"
     ]
    }
   ],
   "source": [
    "frame=cv2.imread(\"C:/Users/Kali Prasad/Desktop/dataset/dataset/Train/vascular lesion/ISIC_0030722.jpg\")\n",
    "data = detect(frame)"
   ]
  },
  {
   "cell_type": "code",
   "execution_count": null,
   "metadata": {},
   "outputs": [],
   "source": []
  }
 ],
 "metadata": {
  "kernelspec": {
   "display_name": "Python 3",
   "language": "python",
   "name": "python3"
  },
  "language_info": {
   "codemirror_mode": {
    "name": "ipython",
    "version": 3
   },
   "file_extension": ".py",
   "mimetype": "text/x-python",
   "name": "python",
   "nbconvert_exporter": "python",
   "pygments_lexer": "ipython3",
   "version": "3.7.6"
  }
 },
 "nbformat": 4,
 "nbformat_minor": 2
}
