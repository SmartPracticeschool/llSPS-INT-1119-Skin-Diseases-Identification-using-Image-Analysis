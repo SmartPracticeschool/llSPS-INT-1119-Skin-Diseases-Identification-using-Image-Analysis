{
 "cells": [
  {
   "cell_type": "code",
   "execution_count": 6,
   "metadata": {},
   "outputs": [],
   "source": [
    "import os\n",
    "os.chdir(\"C:/Users/Kali Prasad/Desktop/skin diseases flask/skin-disease-flask\")"
   ]
  },
  {
   "cell_type": "code",
   "execution_count": 7,
   "metadata": {},
   "outputs": [],
   "source": [
    "from keras.models import load_model\n",
    "import numpy as np\n",
    "import cv2"
   ]
  },
  {
   "cell_type": "code",
   "execution_count": 8,
   "metadata": {},
   "outputs": [
    {
     "name": "stdout",
     "output_type": "stream",
     "text": [
      "WARNING:tensorflow:From C:\\Users\\Kali Prasad\\anaconda3\\lib\\site-packages\\keras\\backend\\tensorflow_backend.py:4070: The name tf.nn.max_pool is deprecated. Please use tf.nn.max_pool2d instead.\n",
      "\n",
      "WARNING:tensorflow:From C:\\Users\\Kali Prasad\\anaconda3\\lib\\site-packages\\keras\\backend\\tensorflow_backend.py:422: The name tf.global_variables is deprecated. Please use tf.compat.v1.global_variables instead.\n",
      "\n"
     ]
    }
   ],
   "source": [
    "\n",
    "model = load_model('skindisease.h5')\n",
    "\n",
    "from skimage.transform import resize\n",
    "\n",
    "def detect(frame):\n",
    "    try:\n",
    "        img = resize(frame,(224,224))\n",
    "        img = np.expand_dims(img,axis=0)\n",
    "        if(np.max(img)>1):\n",
    "            img = img/255.0\n",
    "        prediction = model.predict(img)\n",
    "        print(prediction)\n",
    "        prediction = model.predict_classes(img)\n",
    "        print(prediction)\n",
    "    except AttributeError:\n",
    "        print(\"shape not found\")\n"
   ]
  },
  {
   "cell_type": "code",
   "execution_count": 9,
   "metadata": {},
   "outputs": [
    {
     "name": "stdout",
     "output_type": "stream",
     "text": [
      "[[6.5145381e-05 6.6739056e-05 9.8090440e-01 1.8962050e-02 1.6921389e-06]]\n",
      "[2]\n"
     ]
    }
   ],
   "source": [
    "frame=cv2.imread(\"C:/Users/Kali Prasad/Desktop/dataset/dataset/Train/psorasis/p10.jpg\")\n",
    "data = detect(frame)"
   ]
  },
  {
   "cell_type": "code",
   "execution_count": 10,
   "metadata": {},
   "outputs": [
    {
     "name": "stdout",
     "output_type": "stream",
     "text": [
      "[[0.2764241  0.62060577 0.03120937 0.04426359 0.02749719]]\n",
      "[1]\n"
     ]
    }
   ],
   "source": [
    "frame=cv2.imread(\"C:/Users/Kali Prasad/Desktop/dataset/dataset/Train/melanoma/g4.jpg\")\n",
    "data = detect(frame)"
   ]
  },
  {
   "cell_type": "code",
   "execution_count": 11,
   "metadata": {},
   "outputs": [
    {
     "name": "stdout",
     "output_type": "stream",
     "text": [
      "[[1.0426810e-13 1.4608606e-06 8.0050341e-12 9.9999857e-01 4.9922977e-17]]\n",
      "[3]\n"
     ]
    }
   ],
   "source": [
    "frame=cv2.imread(\"C:/Users/Kali Prasad/Desktop/dataset/dataset/Train/seborrheic keratosis/ISIC_0000142.jpg\")\n",
    "data = detect(frame)"
   ]
  },
  {
   "cell_type": "code",
   "execution_count": 12,
   "metadata": {},
   "outputs": [
    {
     "name": "stdout",
     "output_type": "stream",
     "text": [
      "[[8.86732161e-01 6.30198047e-02 1.27860075e-02 2.40115536e-04\n",
      "  3.72218452e-02]]\n",
      "[0]\n"
     ]
    }
   ],
   "source": [
    "frame=cv2.imread(\"C:/Users/Kali Prasad/Desktop/dataset/dataset/Train/actinic keratosis/ISIC_0026040.jpg\")\n",
    "data = detect(frame)"
   ]
  },
  {
   "cell_type": "code",
   "execution_count": 13,
   "metadata": {},
   "outputs": [
    {
     "name": "stdout",
     "output_type": "stream",
     "text": [
      "[[1.6150437e-16 2.4570873e-20 4.3352701e-18 2.5397133e-14 1.0000000e+00]]\n",
      "[4]\n"
     ]
    }
   ],
   "source": [
    "frame=cv2.imread(\"C:/Users/Kali Prasad/Desktop/dataset/dataset/Train/vascular lesion/ISIC_0030722.jpg\")\n",
    "data = detect(frame)"
   ]
  },
  {
   "cell_type": "code",
   "execution_count": null,
   "metadata": {},
   "outputs": [],
   "source": []
  }
 ],
 "metadata": {
  "kernelspec": {
   "display_name": "Python 3",
   "language": "python",
   "name": "python3"
  },
  "language_info": {
   "codemirror_mode": {
    "name": "ipython",
    "version": 3
   },
   "file_extension": ".py",
   "mimetype": "text/x-python",
   "name": "python",
   "nbconvert_exporter": "python",
   "pygments_lexer": "ipython3",
   "version": "3.7.6"
  }
 },
 "nbformat": 4,
 "nbformat_minor": 2
}
